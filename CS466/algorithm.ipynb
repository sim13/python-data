{
 "metadata": {
  "name": "algorithm.ipynb"
 },
 "nbformat": 3,
 "nbformat_minor": 0,
 "worksheets": [
  {
   "cells": [
    {
     "cell_type": "code",
     "collapsed": false,
     "input": [
      "import numpy as np\n",
      "def motif_algorithm(path):\n",
      "    file_seq = open(str(path) + '/sequences.fa', 'r')\n",
      "    file_len = open(str(path) + '/motiflength.txt', 'r')    \n",
      "    motiflength = int(file_len.readline())\n",
      "    sequences = []\n",
      "    for line in file_seq:\n",
      "        if(line[0]!='>'):\n",
      "            line.rstrip('\\n')\n",
      "            sequences.append(line)\n",
      "            \n",
      "    file_seq.close()\n",
      "    file_len.close()\n",
      "    bestMotif = [0] * len(sequences)\n",
      "    s = [0] * len(sequences)\n",
      "    s1 = 0\n",
      "    s2 = 0\n",
      "    s3 = 0\n",
      "    i1 = [0] * len(sequences)\n",
      "    i2 = [0] * len(sequences)\n",
      "    i3 = [0] * len(sequences)\n",
      "    lmer1 = ''\n",
      "    lmer2 = ''\n",
      "    lmer3 = ''\n",
      "    for p in arange(0, len(sequences[0])-motiflength):\n",
      "        s[0] = p\n",
      "        for q in arange(0, len(sequences[0])-motiflength):\n",
      "            s[1] = q\n",
      "            seq1_s = sequences[0][s[0]:s[0]+motiflength]\n",
      "            seq2_s = sequences[1][s[1]:s[1]+motiflength]\n",
      "            \n",
      "            seq1_b = sequences[0][bestMotif[0]:bestMotif[0]+motiflength]\n",
      "            seq2_b = sequences[1][bestMotif[1]:bestMotif[1]+motiflength]\n",
      "            \n",
      "            score_s = 0\n",
      "            score_b = 0\n",
      "            for i in arange(0, len(seq1_s)):\n",
      "                if(seq1_s[i]==seq2_s[i]):\n",
      "                    score_s += 1\n",
      "                if(seq1_b[i]==seq2_b[i]):\n",
      "                    score_b += 1\n",
      "                \n",
      "            if(score_s >= score_b):\n",
      "                if(score_s > s1):\n",
      "                    s3 = s2\n",
      "                    lmer3 = lmer2\n",
      "                    i3[0] = i2[0]\n",
      "                    i3[1] = i2[1]\n",
      "                    s2 = s1\n",
      "                    lmer2 = lmer1\n",
      "                    i2[0] = i1[0]\n",
      "                    i2[1] = i1[1]\n",
      "                    s1 = score_s\n",
      "                    lmer1 = seq1_s\n",
      "                    i1[0] = s[0]\n",
      "                    i1[1] = s[1]\n",
      "                elif(score_s > s2):\n",
      "                    s3 = s2\n",
      "                    lmer3 = lmer2\n",
      "                    i3[0] = i2[0]\n",
      "                    i3[1] = i2[1]\n",
      "                    s2 = score_s\n",
      "                    lmer2 = seq1_s\n",
      "                    i2[0] = s[0]\n",
      "                    i2[1] = s[1]\n",
      "                elif(score_s > s3):\n",
      "                    s3 = score_s\n",
      "                    lmer3 = seq1_s\n",
      "                    i3[0] = s[0]\n",
      "                    i3[1] = s[1]\n",
      "                else:\n",
      "                    continue  \n",
      "    \n",
      "    for i in arange(2, len(sequences)):\n",
      "        s1 = 0\n",
      "        s2 = 0\n",
      "        s3 = 0\n",
      "        for p in arange(0, len(sequences[0])-motiflength):\n",
      "            s[i] = p\n",
      "            seq_s = sequences[i][p:p+motiflength]\n",
      "            \n",
      "            score_s1 = 0\n",
      "            score_s2 = 0\n",
      "            score_s3 = 0\n",
      "            for n in arange(0, len(seq_s)):\n",
      "                if(seq_s[n]==lmer1[n]):\n",
      "                    score_s1 += 1\n",
      "                if(seq_s[n]==lmer2[n]):\n",
      "                    score_s2 += 1\n",
      "                if(seq_s[n]==lmer3[n]):\n",
      "                    score_s3 += 1\n",
      "            if(score_s1 > s1):\n",
      "                s1 = score_s1\n",
      "                i1[i] = s[i]\n",
      "            if(score_s2 > s2):\n",
      "                s2 = score_s2\n",
      "                i2[i] = s[i]\n",
      "            if(score_s3 > s3):\n",
      "                s3 = score_s3\n",
      "                i3[i] = s[i]    \n",
      "                \n",
      "        #s[i] = bestMotif[i]\n",
      "    #print i1, i2, i3\n",
      "    aln_mat1 = []\n",
      "    aln_mat2 = []\n",
      "    aln_mat3 = []\n",
      "    for i in arange(0, len(sequences)):\n",
      "        aln_mat1.append(sequences[i][i1[i]:i1[i]+motiflength])\n",
      "        aln_mat2.append(sequences[i][i2[i]:i2[i]+motiflength])\n",
      "        aln_mat3.append(sequences[i][i3[i]:i3[i]+motiflength])\n",
      "    \n",
      "    tran1 = np.asarray(aln_mat1)\n",
      "    tran1 = zip(*tran1)\n",
      "    tran2 = np.asarray(aln_mat2)\n",
      "    tran2 = zip(*tran2)\n",
      "    tran3 = np.asarray(aln_mat3)\n",
      "    tran3 = zip(*tran3) \n",
      "    max1 = 0\n",
      "    max2 = 0\n",
      "    max3 = 0\n",
      "    \n",
      "    for i in arange(0, motiflength):\n",
      "        max1 += max(tran1[i].count('A'), tran1[i].count('C'), tran1[i].count('G'), tran1[i].count('T'))\n",
      "        max2 += max(tran2[i].count('A'), tran2[i].count('C'), tran2[i].count('G'), tran2[i].count('T'))\n",
      "        max3 += max(tran3[i].count('A'), tran3[i].count('C'), tran3[i].count('G'), tran3[i].count('T'))\n",
      "    pick = max(max1, max2, max3)\n",
      "    tran = np.asarray([])\n",
      "    if(pick==max1):\n",
      "        bestMotif = i1\n",
      "        tran = tran1\n",
      "    elif(pick==max2):\n",
      "        bestMotif = i2\n",
      "        tran = tran2\n",
      "    else:\n",
      "        bestMotif = i3\n",
      "        tran = tran3\n",
      "        \n",
      "    pwm = []\n",
      "    for i in arange(0, motiflength):\n",
      "        sh = []\n",
      "        sh.append(tran[i].count('A'))\n",
      "        sh.append(tran[i].count('C'))\n",
      "        sh.append(tran[i].count('G'))\n",
      "        sh.append(tran[i].count('T'))\n",
      "        pwm.append(sh)\n",
      "    file_prsites = open(str(path) + '/predictedsites.txt', 'w')\n",
      "    file_prmotif = open(str(path) + '/predictedmotif.txt', 'w')\n",
      "    for x in arange(0, len(sequences)):\n",
      "        file_prsites.write(str(bestMotif[x]) + '\\n')\n",
      "    file_prmotif.write('> PMOTIF    ' + str(motiflength) + '\\n')\n",
      "    for i in arange(0, motiflength):\n",
      "        for x in arange(0, 4):\n",
      "            file_prmotif.write(str(pwm[i][x]))\n",
      "            if(x!=3):\n",
      "                file_prmotif.write('    ')\n",
      "            else:\n",
      "                file_prmotif.write('\\n')\n",
      "    file_prmotif.write('<')\n",
      "    file_prmotif.close()\n",
      "    file_prsites.close()\n",
      "    #print bestMotif\n",
      "    #print pwm"
     ],
     "language": "python",
     "metadata": {},
     "outputs": [],
     "prompt_number": 7
    },
    {
     "cell_type": "code",
     "collapsed": false,
     "input": [
      "motif_algorithm(\"Experiment Params 1/Dataset1\")\n",
      "f = open(\"Experiment Params 1/Dataset1/sites.txt\", 'r')\n",
      "print f.read()"
     ],
     "language": "python",
     "metadata": {},
     "outputs": [
      {
       "output_type": "stream",
       "stream": "stdout",
       "text": [
        "[198, 116, 41, 210, 241, 354, 19, 1, 197, 484]\n",
        "313\n",
        "149\n",
        "33\n",
        "65\n",
        "125\n",
        "414\n",
        "302\n",
        "441\n",
        "9\n",
        "255\n",
        "\n"
       ]
      }
     ],
     "prompt_number": 4
    },
    {
     "cell_type": "code",
     "collapsed": false,
     "input": [
      "import math\n",
      "for i in arange(1,8):\n",
      "    for j in arange(1, 11):\n",
      "        path = 'Experiment Params ' + str(i) + '/Dataset' + str(j)\n",
      "        #print i\n",
      "        motif_algorithm(path)\n",
      "        f1 = open(str(path) + '/predictedsites.txt', 'r')\n",
      "        f2 = open(str(path) + '/sites.txt', 'r')\n",
      "        match = 0\n",
      "        for l in f1:\n",
      "            if(int(l)==int(f2.readline())):\n",
      "                match += 1\n",
      "        file_len = open(str(path)+ '/motiflength.txt', 'r')    \n",
      "        motiflength = int(file_len.readline())\n",
      "        file_len.close()\n",
      "        file_sites = open(str(path)+ '/sites.txt', 'r')\n",
      "        file_seq = open(str(path) + '/sequences.fa' ,'r')\n",
      "        sites =[]\n",
      "        sequences=[]\n",
      "        for line in file_sites:\n",
      "            line.rstrip('\\n')\n",
      "            sites.append(int(line))\n",
      "        file_sites.close()\n",
      "        for line in file_seq:\n",
      "            if(line[0] !='>'):\n",
      "                line.rstrip('\\n')\n",
      "                sequences.append(line)\n",
      "        file_seq.close()\n",
      "        aln_mat=[]\n",
      "        for t in xrange(0, len(sequences)):\n",
      "            aln_mat.append(sequences[t][sites[t]:sites[t]+motiflength])\n",
      "        tran = np.asarray(aln_mat)\n",
      "        tran = zip(*tran)\n",
      "        pwm_true = []\n",
      "        for t in xrange(0, motiflength):\n",
      "            sh = []\n",
      "            sh.append(tran[t].count('A'))\n",
      "            sh.append(tran[t].count('C'))\n",
      "            sh.append(tran[t].count('G'))\n",
      "            sh.append(tran[t].count('T'))\n",
      "            pwm_true.append(sh)\n",
      "        file_motif = open(str(path) + '/predictedmotif.txt', 'r')\n",
      "        pwm_pred = []\n",
      "        file_motif.readline()\n",
      "        for line in file_motif:\n",
      "            if(line[0]!='<'):\n",
      "                num = line.split()\n",
      "                ns = map(int, num)\n",
      "            \n",
      "            pwm_pred.append(ns)\n",
      "        \n",
      "        file_motif.close()\n",
      "       # print pwm_true\n",
      "       # print pwm_pred\n",
      "        entropy = 0\n",
      "        entropy1 = 0\n",
      "        entropy2 = 0 \n",
      "        for x in arange(0, 4):\n",
      "            for y in arange(0, motiflength):\n",
      "                p = double(pwm_pred[y][x])/double(len(sequences))\n",
      "                q = double(pwm_true[y][x])/double(len(sequences))\n",
      "                ent1 = pwm_pred[y][x]*math.log((p+1)/(1.25))\n",
      "                ent2 = pwm_true[y][x]*math.log((q+1)/(1.25))\n",
      "                ent = pwm_pred[y][x]*math.log((p+1)/(q+1))\n",
      "                entropy += ent\n",
      "                entropy1 += ent1\n",
      "                entropy2 += ent2\n",
      "        file_eval = open(str(path) + '/eval.txt', 'w')\n",
      "        file_eval.write(str(entropy))\n",
      "        file_eval.write('\\n')\n",
      "        file_eval.write(str(match))\n",
      "        file_eval.write('\\n')\n",
      "        file_eval.write(str(abs(entropy1-entropy2)))\n",
      "        file_eval.close()\n",
      "        print path + \" had \" + str(match) + \" matches.\"\n"
     ],
     "language": "python",
     "metadata": {},
     "outputs": [
      {
       "output_type": "stream",
       "stream": "stdout",
       "text": [
        "Experiment Params 1/Dataset1 had 10 matches.\n",
        "Experiment Params 1/Dataset2 had 0 matches."
       ]
      },
      {
       "output_type": "stream",
       "stream": "stdout",
       "text": [
        "\n",
        "Experiment Params 1/Dataset3 had 10 matches."
       ]
      },
      {
       "output_type": "stream",
       "stream": "stdout",
       "text": [
        "\n",
        "Experiment Params 1/Dataset4 had 10 matches."
       ]
      },
      {
       "output_type": "stream",
       "stream": "stdout",
       "text": [
        "\n",
        "Experiment Params 1/Dataset5 had 10 matches."
       ]
      },
      {
       "output_type": "stream",
       "stream": "stdout",
       "text": [
        "\n",
        "Experiment Params 1/Dataset6 had 0 matches."
       ]
      },
      {
       "output_type": "stream",
       "stream": "stdout",
       "text": [
        "\n",
        "Experiment Params 1/Dataset7 had 9 matches."
       ]
      },
      {
       "output_type": "stream",
       "stream": "stdout",
       "text": [
        "\n",
        "Experiment Params 1/Dataset8 had 10 matches."
       ]
      },
      {
       "output_type": "stream",
       "stream": "stdout",
       "text": [
        "\n",
        "Experiment Params 1/Dataset9 had 10 matches."
       ]
      },
      {
       "output_type": "stream",
       "stream": "stdout",
       "text": [
        "\n",
        "Experiment Params 1/Dataset10 had 10 matches."
       ]
      },
      {
       "output_type": "stream",
       "stream": "stdout",
       "text": [
        "\n",
        "Experiment Params 2/Dataset1 had 0 matches."
       ]
      },
      {
       "output_type": "stream",
       "stream": "stdout",
       "text": [
        "\n",
        "Experiment Params 2/Dataset2 had 10 matches."
       ]
      },
      {
       "output_type": "stream",
       "stream": "stdout",
       "text": [
        "\n",
        "Experiment Params 2/Dataset3 had 10 matches."
       ]
      },
      {
       "output_type": "stream",
       "stream": "stdout",
       "text": [
        "\n",
        "Experiment Params 2/Dataset4 had 10 matches."
       ]
      },
      {
       "output_type": "stream",
       "stream": "stdout",
       "text": [
        "\n",
        "Experiment Params 2/Dataset5 had 10 matches."
       ]
      },
      {
       "output_type": "stream",
       "stream": "stdout",
       "text": [
        "\n",
        "Experiment Params 2/Dataset6 had 10 matches."
       ]
      },
      {
       "output_type": "stream",
       "stream": "stdout",
       "text": [
        "\n",
        "Experiment Params 2/Dataset7 had 10 matches."
       ]
      },
      {
       "output_type": "stream",
       "stream": "stdout",
       "text": [
        "\n",
        "Experiment Params 2/Dataset8 had 0 matches."
       ]
      },
      {
       "output_type": "stream",
       "stream": "stdout",
       "text": [
        "\n",
        "Experiment Params 2/Dataset9 had 10 matches."
       ]
      },
      {
       "output_type": "stream",
       "stream": "stdout",
       "text": [
        "\n",
        "Experiment Params 2/Dataset10 had 0 matches."
       ]
      },
      {
       "output_type": "stream",
       "stream": "stdout",
       "text": [
        "\n",
        "Experiment Params 3/Dataset1 had 0 matches."
       ]
      },
      {
       "output_type": "stream",
       "stream": "stdout",
       "text": [
        "\n",
        "Experiment Params 3/Dataset2 had 10 matches."
       ]
      },
      {
       "output_type": "stream",
       "stream": "stdout",
       "text": [
        "\n",
        "Experiment Params 3/Dataset3 had 10 matches."
       ]
      },
      {
       "output_type": "stream",
       "stream": "stdout",
       "text": [
        "\n",
        "Experiment Params 3/Dataset4 had 10 matches."
       ]
      },
      {
       "output_type": "stream",
       "stream": "stdout",
       "text": [
        "\n",
        "Experiment Params 3/Dataset5 had 0 matches."
       ]
      },
      {
       "output_type": "stream",
       "stream": "stdout",
       "text": [
        "\n",
        "Experiment Params 3/Dataset6 had 10 matches."
       ]
      },
      {
       "output_type": "stream",
       "stream": "stdout",
       "text": [
        "\n",
        "Experiment Params 3/Dataset7 had 0 matches."
       ]
      },
      {
       "output_type": "stream",
       "stream": "stdout",
       "text": [
        "\n",
        "Experiment Params 3/Dataset8 had 0 matches."
       ]
      },
      {
       "output_type": "stream",
       "stream": "stdout",
       "text": [
        "\n",
        "Experiment Params 3/Dataset9 had 0 matches."
       ]
      },
      {
       "output_type": "stream",
       "stream": "stdout",
       "text": [
        "\n",
        "Experiment Params 3/Dataset10 had 10 matches."
       ]
      },
      {
       "output_type": "stream",
       "stream": "stdout",
       "text": [
        "\n",
        "Experiment Params 4/Dataset1 had 10 matches."
       ]
      },
      {
       "output_type": "stream",
       "stream": "stdout",
       "text": [
        "\n",
        "Experiment Params 4/Dataset2 had 0 matches."
       ]
      },
      {
       "output_type": "stream",
       "stream": "stdout",
       "text": [
        "\n",
        "Experiment Params 4/Dataset3 had 0 matches."
       ]
      },
      {
       "output_type": "stream",
       "stream": "stdout",
       "text": [
        "\n",
        "Experiment Params 4/Dataset4 had 0 matches."
       ]
      },
      {
       "output_type": "stream",
       "stream": "stdout",
       "text": [
        "\n",
        "Experiment Params 4/Dataset5 had 0 matches."
       ]
      },
      {
       "output_type": "stream",
       "stream": "stdout",
       "text": [
        "\n",
        "Experiment Params 4/Dataset6 had 10 matches."
       ]
      },
      {
       "output_type": "stream",
       "stream": "stdout",
       "text": [
        "\n",
        "Experiment Params 4/Dataset7 had 0 matches."
       ]
      },
      {
       "output_type": "stream",
       "stream": "stdout",
       "text": [
        "\n",
        "Experiment Params 4/Dataset8 had 0 matches."
       ]
      },
      {
       "output_type": "stream",
       "stream": "stdout",
       "text": [
        "\n",
        "Experiment Params 4/Dataset9 had 0 matches."
       ]
      },
      {
       "output_type": "stream",
       "stream": "stdout",
       "text": [
        "\n",
        "Experiment Params 4/Dataset10 had 0 matches."
       ]
      },
      {
       "output_type": "stream",
       "stream": "stdout",
       "text": [
        "\n",
        "Experiment Params 5/Dataset1 had 0 matches."
       ]
      },
      {
       "output_type": "stream",
       "stream": "stdout",
       "text": [
        "\n",
        "Experiment Params 5/Dataset2 had 0 matches."
       ]
      },
      {
       "output_type": "stream",
       "stream": "stdout",
       "text": [
        "\n",
        "Experiment Params 5/Dataset3 had 0 matches."
       ]
      },
      {
       "output_type": "stream",
       "stream": "stdout",
       "text": [
        "\n",
        "Experiment Params 5/Dataset4 had 0 matches."
       ]
      },
      {
       "output_type": "stream",
       "stream": "stdout",
       "text": [
        "\n",
        "Experiment Params 5/Dataset5 had 0 matches."
       ]
      },
      {
       "output_type": "stream",
       "stream": "stdout",
       "text": [
        "\n",
        "Experiment Params 5/Dataset6 had 1 matches."
       ]
      },
      {
       "output_type": "stream",
       "stream": "stdout",
       "text": [
        "\n",
        "Experiment Params 5/Dataset7 had 0 matches."
       ]
      },
      {
       "output_type": "stream",
       "stream": "stdout",
       "text": [
        "\n",
        "Experiment Params 5/Dataset8 had 0 matches."
       ]
      },
      {
       "output_type": "stream",
       "stream": "stdout",
       "text": [
        "\n",
        "Experiment Params 5/Dataset9 had 0 matches."
       ]
      },
      {
       "output_type": "stream",
       "stream": "stdout",
       "text": [
        "\n",
        "Experiment Params 5/Dataset10 had 0 matches."
       ]
      },
      {
       "output_type": "stream",
       "stream": "stdout",
       "text": [
        "\n",
        "Experiment Params 6/Dataset1 had 0 matches."
       ]
      },
      {
       "output_type": "stream",
       "stream": "stdout",
       "text": [
        "\n",
        "Experiment Params 6/Dataset2 had 5 matches."
       ]
      },
      {
       "output_type": "stream",
       "stream": "stdout",
       "text": [
        "\n",
        "Experiment Params 6/Dataset3 had 5 matches."
       ]
      },
      {
       "output_type": "stream",
       "stream": "stdout",
       "text": [
        "\n",
        "Experiment Params 6/Dataset4 had 0 matches."
       ]
      },
      {
       "output_type": "stream",
       "stream": "stdout",
       "text": [
        "\n",
        "Experiment Params 6/Dataset5 had 0 matches."
       ]
      },
      {
       "output_type": "stream",
       "stream": "stdout",
       "text": [
        "\n",
        "Experiment Params 6/Dataset6 had 5 matches."
       ]
      },
      {
       "output_type": "stream",
       "stream": "stdout",
       "text": [
        "\n",
        "Experiment Params 6/Dataset7 had 5 matches."
       ]
      },
      {
       "output_type": "stream",
       "stream": "stdout",
       "text": [
        "\n",
        "Experiment Params 6/Dataset8 had 4 matches."
       ]
      },
      {
       "output_type": "stream",
       "stream": "stdout",
       "text": [
        "\n",
        "Experiment Params 6/Dataset9 had 5 matches."
       ]
      },
      {
       "output_type": "stream",
       "stream": "stdout",
       "text": [
        "\n",
        "Experiment Params 6/Dataset10 had 0 matches."
       ]
      },
      {
       "output_type": "stream",
       "stream": "stdout",
       "text": [
        "\n",
        "Experiment Params 7/Dataset1 had 20 matches."
       ]
      },
      {
       "output_type": "stream",
       "stream": "stdout",
       "text": [
        "\n",
        "Experiment Params 7/Dataset2 had 0 matches."
       ]
      },
      {
       "output_type": "stream",
       "stream": "stdout",
       "text": [
        "\n",
        "Experiment Params 7/Dataset3 had 0 matches."
       ]
      },
      {
       "output_type": "stream",
       "stream": "stdout",
       "text": [
        "\n",
        "Experiment Params 7/Dataset4 had 20 matches."
       ]
      },
      {
       "output_type": "stream",
       "stream": "stdout",
       "text": [
        "\n",
        "Experiment Params 7/Dataset5 had 20 matches."
       ]
      },
      {
       "output_type": "stream",
       "stream": "stdout",
       "text": [
        "\n",
        "Experiment Params 7/Dataset6 had 0 matches."
       ]
      },
      {
       "output_type": "stream",
       "stream": "stdout",
       "text": [
        "\n",
        "Experiment Params 7/Dataset7 had 20 matches."
       ]
      },
      {
       "output_type": "stream",
       "stream": "stdout",
       "text": [
        "\n",
        "Experiment Params 7/Dataset8 had 20 matches."
       ]
      },
      {
       "output_type": "stream",
       "stream": "stdout",
       "text": [
        "\n",
        "Experiment Params 7/Dataset9 had 0 matches."
       ]
      },
      {
       "output_type": "stream",
       "stream": "stdout",
       "text": [
        "\n",
        "Experiment Params 7/Dataset10 had 0 matches."
       ]
      },
      {
       "output_type": "stream",
       "stream": "stdout",
       "text": [
        "\n"
       ]
      }
     ],
     "prompt_number": 9
    },
    {
     "cell_type": "code",
     "collapsed": false,
     "input": [
      "for i in arange(1,8):\n",
      "    for j in arange(1, 11):\n",
      "        path = 'Experiment Params ' + str(i) + '/Dataset' + str(j)\n",
      "        file_eval = open(str(path) + '/eval.txt', 'r')"
     ],
     "language": "python",
     "metadata": {},
     "outputs": []
    },
    {
     "cell_type": "code",
     "collapsed": false,
     "input": [
      "import numpy as np\n",
      "def motif_algorithm(path):\n",
      "    file_seq = open(str(path) + '/sequences.fa', 'r')\n",
      "    file_len = open(str(path) + '/motiflength.txt', 'r')    \n",
      "    motiflength = int(file_len.readline())\n",
      "    sequences = []\n",
      "    for line in file_seq:\n",
      "        if(line[0]!='>'):\n",
      "            line.rstrip('\\n')\n",
      "            sequences.append(line)\n",
      "            \n",
      "    file_seq.close()\n",
      "    file_len.close()\n",
      "    bestMotif = [0] * len(sequences)\n",
      "    s = [0] * len(sequences)\n",
      "    s1 = 0\n",
      "    s2 = 0\n",
      "    s3 = 0\n",
      "    i1 = [0] * len(sequences)\n",
      "    i2 = [0] * len(sequences)\n",
      "    i3 = [0] * len(sequences) \n",
      "    xstring = ''\n",
      "    for x in arange(0, motiflength):\n",
      "        xstring += 'X'\n",
      "    lmer1 = [xstring] * len(sequences)\n",
      "    lmer2 = [xstring] * len(sequences)\n",
      "    lmer3 = [xstring] * len(sequences)\n",
      "    for p in arange(0, len(sequences[0])-motiflength):\n",
      "        s[0] = p\n",
      "        for q in arange(0, len(sequences[0])-motiflength):\n",
      "            s[1] = q\n",
      "            seq1_s = sequences[0][s[0]:s[0]+motiflength]\n",
      "            seq2_s = sequences[1][s[1]:s[1]+motiflength]\n",
      "            \n",
      "            seq1_b = sequences[0][bestMotif[0]:bestMotif[0]+motiflength]\n",
      "            seq2_b = sequences[1][bestMotif[1]:bestMotif[1]+motiflength]\n",
      "            \n",
      "            score_s = 0\n",
      "            score_b = 0\n",
      "            for i in arange(0, len(seq1_s)):\n",
      "                if(seq1_s[i]==seq2_s[i]):\n",
      "                    score_s += 1\n",
      "                if(seq1_b[i]==seq2_b[i]):\n",
      "                    score_b += 1\n",
      "                \n",
      "            if(score_s >= score_b):\n",
      "                if(score_s > s1):\n",
      "                    s3 = s2\n",
      "                    lmer3[0] = lmer2[0]\n",
      "                    lmer3[1] = lmer2[1]\n",
      "                    i3[0] = i2[0]\n",
      "                    i3[1] = i2[1]\n",
      "                    s2 = s1\n",
      "                    lmer2[0] = lmer1[0]\n",
      "                    lmer2[1] = lmer1[1]\n",
      "                    i2[0] = i1[0]\n",
      "                    i2[1] = i1[1]\n",
      "                    s1 = score_s\n",
      "                    lmer1[0] = seq1_s\n",
      "                    lmer1[1] = seq2_s\n",
      "                    i1[0] = s[0]\n",
      "                    i1[1] = s[1]\n",
      "                elif(score_s > s2):\n",
      "                    s3 = s2\n",
      "                    lmer3[0] = lmer2[0]\n",
      "                    lmer3[1] = lmer2[1]\n",
      "                    i3[0] = i2[0]\n",
      "                    i3[1] = i2[1]\n",
      "                    s2 = score_s\n",
      "                    lmer2[0] = seq1_s\n",
      "                    lmer2[1] = seq2_s\n",
      "                    i2[0] = s[0]\n",
      "                    i2[1] = s[1]\n",
      "                elif(score_s > s3):\n",
      "                    s3 = score_s\n",
      "                    lmer3[0] = seq1_s\n",
      "                    lmer3[1] = seq2_s\n",
      "                    i3[0] = s[0]\n",
      "                    i3[1] = s[1]\n",
      "                else:\n",
      "                    continue  \n",
      "    \n",
      "    for i in arange(2, len(sequences)):\n",
      "        s1 = 0\n",
      "        s2 = 0\n",
      "        s3 = 0\n",
      "        for p in arange(0, len(sequences[0])-motiflength):\n",
      "            s[i] = p\n",
      "            lmer1[i] = sequences[i][p:p+motiflength]\n",
      "            lmer2[i] = sequences[i][p:p+motiflength]\n",
      "            lmer3[i] = sequences[i][p:p+motiflength]\n",
      "            #print lmer1, lmer2, lmer3\n",
      "            tran1 = np.asarray(lmer1)\n",
      "            tran1 = zip(*tran1)\n",
      "            tran2 = np.asarray(lmer2)\n",
      "            tran2 = zip(*tran2)\n",
      "            tran3 = np.asarray(lmer3)\n",
      "            tran3 = zip(*tran3) \n",
      "            score_s1 = 0\n",
      "            score_s2 = 0\n",
      "            score_s3 = 0\n",
      "            print tran1, tran2, tran3\n",
      "            for n in arange(0, motiflength):\n",
      "                score_s1 += max(tran1[i].count('A'), tran1[i].count('C'), tran1[i].count('G'), tran1[i].count('T'))\n",
      "                score_s2 += max(tran2[i].count('A'), tran2[i].count('C'), tran2[i].count('G'), tran2[i].count('T'))\n",
      "                score_s3 += max(tran3[i].count('A'), tran3[i].count('C'), tran3[i].count('G'), tran3[i].count('T'))\n",
      "            if(score_s1 > s1):\n",
      "                s1 = score_s1\n",
      "                i1[i] = s[i]\n",
      "            if(score_s2 > s2):\n",
      "                s2 = score_s2\n",
      "                i2[i] = s[i]\n",
      "            if(score_s3 > s3):\n",
      "                s3 = score_s3\n",
      "                i3[i] = s[i]    \n",
      "        lmer1[i] = sequences[i][i1[i]:i1[i]+motiflength]\n",
      "        lmer2[i] = sequences[i][i2[i]:i2[i]+motiflength]\n",
      "        lmer3[i] = sequences[i][i3[i]:i3[i]+motiflength]\n",
      "        #s[i] = bestMotif[i]\n",
      "    print i1, i2, i3\n",
      "    '''\n",
      "    aln_mat1 = []\n",
      "    aln_mat2 = []\n",
      "    aln_mat3 = []\n",
      "    for i in arange(0, len(sequences)):\n",
      "        aln_mat1.append(sequences[i][i1[i]:i1[i]+motiflength])\n",
      "        aln_mat2.append(sequences[i][i2[i]:i2[i]+motiflength])\n",
      "        aln_mat3.append(sequences[i][i3[i]:i3[i]+motiflength])\n",
      "    '''\n",
      "    tran1 = np.asarray(lmer1)\n",
      "    tran1 = zip(*tran1)\n",
      "    tran2 = np.asarray(lmer2)\n",
      "    tran2 = zip(*tran2)\n",
      "    tran3 = np.asarray(lmer3)\n",
      "    tran3 = zip(*tran3) \n",
      "    max1 = 0\n",
      "    max2 = 0\n",
      "    max3 = 0\n",
      "    \n",
      "    for i in arange(0, motiflength):\n",
      "        max1 += max(tran1[i].count('A'), tran1[i].count('C'), tran1[i].count('G'), tran1[i].count('T'))\n",
      "        max2 += max(tran2[i].count('A'), tran2[i].count('C'), tran2[i].count('G'), tran2[i].count('T'))\n",
      "        max3 += max(tran3[i].count('A'), tran3[i].count('C'), tran3[i].count('G'), tran3[i].count('T'))\n",
      "    pick = max(max1, max2, max3)\n",
      "    tran = np.asarray([])\n",
      "    if(pick==max1):\n",
      "        bestMotif = i1\n",
      "        tran = tran1\n",
      "    elif(pick==max2):\n",
      "        bestMotif = i2\n",
      "        tran = tran2\n",
      "    else:\n",
      "        bestMotif = i3\n",
      "        tran = tran3\n",
      "        \n",
      "    pwm = []\n",
      "    for i in arange(0, motiflength):\n",
      "        sh = []\n",
      "        sh.append(tran[i].count('A'))\n",
      "        sh.append(tran[i].count('C'))\n",
      "        sh.append(tran[i].count('G'))\n",
      "        sh.append(tran[i].count('T'))\n",
      "        pwm.append(sh)\n",
      "    file_prsites = open(str(path) + '/predictedsites.txt', 'w')\n",
      "    file_prmotif = open(str(path) + '/predictedmotif.txt', 'w')\n",
      "    for x in arange(0, len(sequences)):\n",
      "        file_prsites.write(str(bestMotif[x]) + '\\n')\n",
      "    file_prmotif.write('> PMOTIF    ' + str(motiflength) + '\\n')\n",
      "    for i in arange(0, motiflength):\n",
      "        for x in arange(0, 4):\n",
      "            file_prmotif.write(str(pwm[i][x]))\n",
      "            if(x!=3):\n",
      "                file_prmotif.write('    ')\n",
      "            else:\n",
      "                file_prmotif.write('\\n')\n",
      "    file_prmotif.write('<')\n",
      "    file_prmotif.close()\n",
      "    file_prsites.close()\n",
      "    print bestMotif\n",
      "    #print pwm"
     ],
     "language": "python",
     "metadata": {},
     "outputs": [],
     "prompt_number": 1
    },
    {
     "cell_type": "code",
     "collapsed": false,
     "input": [],
     "language": "python",
     "metadata": {},
     "outputs": [],
     "prompt_number": 19
    },
    {
     "cell_type": "code",
     "collapsed": false,
     "input": [],
     "language": "python",
     "metadata": {},
     "outputs": []
    }
   ],
   "metadata": {}
  }
 ]
}